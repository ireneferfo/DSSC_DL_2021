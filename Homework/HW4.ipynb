{
  "nbformat": 4,
  "nbformat_minor": 0,
  "metadata": {
    "colab": {
      "name": "DL-HW4.ipynb",
      "provenance": [],
      "collapsed_sections": []
    },
    "kernelspec": {
      "name": "python3",
      "display_name": "Python 3"
    },
    "language_info": {
      "name": "python"
    },
    "accelerator": "GPU"
  },
  "cells": [
    {
      "cell_type": "markdown",
      "metadata": {
        "id": "3B1KgthdkJMq"
      },
      "source": [
        "# Homework 4"
      ]
    },
    {
      "cell_type": "markdown",
      "metadata": {
        "id": "KUaad7RRkJTz"
      },
      "source": [
        "### 1. Now that you have all the tools to train an MLP with high performance on MNIST, try reaching 0-loss (or 100% accuracy) on the training data (with a small epsilon, e.g. 99.99% training performance -- don't worry if you overfit!). The implementation is completely up to you. You just need to keep it an MLP without using fancy layers (e.g., keep the `Linear` layers, don't use `Conv1d` or something like this, don't use attention). You are free to use any LR scheduler or optimizer, any one of batchnorm/groupnorm, regularization methods... If you use something we haven't seen during lectures, please motivate your choice and explain (as briefly as possible) how it works."
      ]
    },
    {
      "cell_type": "code",
      "metadata": {
        "id": "rZ6RvLJkkMKD"
      },
      "source": [
        "import torch\n",
        "\n",
        "import sys\n",
        "sys.path.append('/content/drive/MyDrive/Colab Notebooks/Deep Learning/scripts/mnist.py')\n",
        "sys.path.append('/content/drive/MyDrive/Colab Notebooks/Deep Learning/scripts/train_utils.py')\n",
        "sys.path.append('/content/drive/MyDrive/Colab Notebooks/Deep Learning/scripts')\n",
        "\n",
        "\n",
        "import mnist\n",
        "from train_utils import accuracy, AverageMeter\n",
        "\n",
        "from torch import nn"
      ],
      "execution_count": 3,
      "outputs": []
    },
    {
      "cell_type": "code",
      "metadata": {
        "id": "kb_xJMCilJIa"
      },
      "source": [
        "class MLP(nn.Module):\n",
        "    def __init__(self):\n",
        "        super().__init__()\n",
        "        self.flat = nn.Flatten()\n",
        "        self.h1 = nn.Linear(28*28, 16)\n",
        "        self.h2 = nn.Linear(16, 32)\n",
        "        self.h3 = nn.Linear(32, 24)\n",
        "        self.out = nn.Linear(24, 10)\n",
        "    \n",
        "    def forward(self, X, activ_hidden=nn.functional.relu):\n",
        "        out = self.flat(X)\n",
        "        out = activ_hidden(self.h1(out))\n",
        "        out = activ_hidden(self.h2(out))\n",
        "        out = activ_hidden(self.h3(out))\n",
        "        out = self.out(out)\n",
        "        return out\n",
        "\n",
        "  \n",
        "def train_epoch(model, dataloader, loss_fn, optimizer, loss_meter, performance_meter, performance): \n",
        "    for X, y in dataloader:\n",
        "        optimizer.zero_grad() \n",
        "        y_hat = model(X)\n",
        "        loss = loss_fn(y_hat, y)\n",
        "        loss.backward()\n",
        "        optimizer.step()\n",
        "        acc = performance(y_hat, y)\n",
        "        loss_meter.update(val=loss.item(), n=X.shape[0])\n",
        "        performance_meter.update(val=acc, n=X.shape[0])\n",
        "\n",
        "\n",
        "def train_model(model, dataloader1, dataloader2, loss_fn, optimizer, num_epochs, performance=accuracy, lr_scheduler=None, epoch_start_scheduler=1): \n",
        "    model.train()\n",
        "\n",
        "    E = {\n",
        "        \"epoch\": [],\"training perf\": []\n",
        "    }\n",
        "\n",
        "    for epoch in range(num_epochs):\n",
        "        loss_meter = AverageMeter()\n",
        "        performance_meter = AverageMeter()\n",
        "\n",
        "        train_epoch(model, dataloader1, loss_fn, optimizer, loss_meter, performance_meter, performance)\n",
        "\n",
        "        if lr_scheduler is not None:\n",
        "            if epoch >= epoch_start_scheduler:\n",
        "                lr_scheduler.step()\n",
        " \n",
        "        E[\"epoch\"].append(epoch)\n",
        "        E[\"training perf\"].append(performance_meter.val)\n",
        "\n",
        "    return loss_meter.sum, performance_meter.avg, E"
      ],
      "execution_count": 12,
      "outputs": []
    },
    {
      "cell_type": "code",
      "metadata": {
        "id": "0fhQhUcBlKVK"
      },
      "source": [
        "torch.manual_seed(123)\n",
        "\n",
        "minibatch_size_train = 256\n",
        "minibatch_size_test = 512\n",
        "\n",
        "trainloader, testloader, trainset, testset = mnist.get_data(batch_size_train=minibatch_size_test, batch_size_test=minibatch_size_test)\n",
        "\n",
        "num_epochs = 20\n",
        "\n",
        "model = MLP()\n",
        "loss_fn = nn.CrossEntropyLoss()\n",
        "optimizer = torch.optim.Adam(model.parameters(), lr=0.01)\n",
        "\n",
        "train_loss, train_acc, E = train_model(model, trainloader, testloader, loss_fn, optimizer, num_epochs)"
      ],
      "execution_count": null,
      "outputs": []
    },
    {
      "cell_type": "code",
      "metadata": {
        "colab": {
          "base_uri": "https://localhost:8080/",
          "height": 282
        },
        "id": "7j_UmCEelNAD",
        "outputId": "9b84189b-8a43-45fb-b542-3abe79826d64"
      },
      "source": [
        "from matplotlib import pyplot as plt\n",
        "\n",
        "tr_list = list(E[\"training perf\"])\n",
        "maxval = max(tr_list)\n",
        "index = tr_list.index(max(tr_list)) + 1 \n",
        "\n",
        "plt.plot(E[\"epoch\"], E[\"training perf\"] )\n",
        "print(f\"The best training performance is {maxval}, obtained at epoch no. {index} out of {num_epochs}.\")"
      ],
      "execution_count": 6,
      "outputs": [
        {
          "output_type": "stream",
          "text": [
            "The best training performance is 1.0, obtained at epoch no. 9 out of 20.\n"
          ],
          "name": "stdout"
        },
        {
          "output_type": "display_data",
          "data": {
            "image/png": "[encoded data removed]",
            "text/plain": [
              "<Figure size 432x288 with 1 Axes>"
            ]
          },
          "metadata": {
            "tags": [],
            "needs_background": "light"
          }
        }
      ]
    },
    {
      "cell_type": "markdown",
      "metadata": {
        "id": "iNUUQ9t9lPju"
      },
      "source": [
        "So, with 20 epochs (actually less), Relu layers, cross-entropy loss and ADAM optimizer with a learning rate of 0.01, we're able to have 100% accuracy on training data. "
      ]
    },
    {
      "cell_type": "markdown",
      "metadata": {
        "id": "AbQoQOG5lSnV"
      },
      "source": [
        "### 2. Try reaching 0-loss on the training data with permuted labels. Assess the model on the test data (without permuted labels) and comment.\n",
        "\n",
        " Tip: To permute the labels, act on the `trainset.targets` with an appropriate torch function. Then, you can pass this \"permuted\" Dataset to a `DataLoader` like so: `trainloader_permuted = torch.utils.data.DataLoader(trainset_permuted, batch_size=batch_size_train, shuffle=True)`. You can now use this DataLoader inside the training function."
      ]
    },
    {
      "cell_type": "code",
      "metadata": {
        "id": "sqoFKnBml59B"
      },
      "source": [
        "from copy import deepcopy\n",
        "\n",
        "trainset_permuted = deepcopy(trainset)\n",
        "permuting_idx = torch.randperm(trainset_permuted.targets.shape[0])\n",
        "trainset_permuted.targets = trainset_permuted.targets.view(-1)[permuting_idx].view(trainset_permuted.targets.shape)\n",
        "\n",
        "trainloader_permuted = torch.utils.data.DataLoader(trainset_permuted, batch_size=minibatch_size_train, shuffle=True)"
      ],
      "execution_count": 7,
      "outputs": []
    },
    {
      "cell_type": "code",
      "metadata": {
        "id": "Oh4fd-SNpiSd"
      },
      "source": [
        "class MLP_perm(nn.Module):\n",
        "    def __init__(self):\n",
        "        super().__init__()\n",
        "        self.flat = nn.Flatten()\n",
        "        self.h1 = nn.Linear(28*28, 1000)\n",
        "        self.h2 = nn.Linear(1000, 500)\n",
        "        self.h3 = nn.Linear(500, 250)\n",
        "        self.out = nn.Linear(250, 10)\n",
        "    \n",
        "    def forward(self, X, activ_hidden=nn.functional.relu):\n",
        "        out = self.flat(X)\n",
        "        out = activ_hidden(self.h1(out))\n",
        "        out = activ_hidden(self.h2(out))\n",
        "        out = activ_hidden(self.h3(out))\n",
        "        out = self.out(out)\n",
        "        return out"
      ],
      "execution_count": 8,
      "outputs": []
    },
    {
      "cell_type": "code",
      "metadata": {
        "id": "zd4XzGlPXMFA"
      },
      "source": [
        "num_epochs = 100\n",
        "\n",
        "model = MLP_perm()\n",
        "loss_fn = nn.CrossEntropyLoss()\n",
        "\n",
        "optimizer = torch.optim.SGD(model.parameters(), lr=.1, momentum=.9)\n",
        "\n",
        "scheduler = torch.optim.lr_scheduler.StepLR(optimizer, step_size=5, gamma=.1)\n",
        "\n",
        "train_loss, train_acc, E = train_model(model, trainloader_permuted, testloader, loss_fn, optimizer, num_epochs, lr_scheduler=scheduler)"
      ],
      "execution_count": 13,
      "outputs": []
    },
    {
      "cell_type": "code",
      "metadata": {
        "colab": {
          "base_uri": "https://localhost:8080/",
          "height": 283
        },
        "id": "_chwNvucXh-J",
        "outputId": "616c25ed-da89-4e73-d1b5-f29f0a183018"
      },
      "source": [
        "from matplotlib import pyplot as plt\n",
        "\n",
        "tr_list = list(E[\"training perf\"])\n",
        "maxval = max(tr_list)\n",
        "index = tr_list.index(max(tr_list)) + 1 \n",
        "\n",
        "plt.plot(E[\"epoch\"], E[\"training perf\"] )\n",
        "print(f\"The best training performance is {maxval}, obtained at epoch no. {index} out of {num_epochs}.\")"
      ],
      "execution_count": 14,
      "outputs": [
        {
          "output_type": "stream",
          "text": [
            "The best training performance is 0.4375, obtained at epoch no. 68 out of 100.\n"
          ],
          "name": "stdout"
        },
        {
          "output_type": "display_data",
          "data": {
            "image/png": "[encoded data removed]",
            "text/plain": [
              "<Figure size 432x288 with 1 Axes>"
            ]
          },
          "metadata": {
            "tags": [],
            "needs_background": "light"
          }
        }
      ]
    },
    {
      "cell_type": "markdown",
      "metadata": {
        "id": "P7Ddl2PuPIyU"
      },
      "source": [
        "For some reason I am not able to get it past 43.7% accuracy, and arriving there has been a struggle itself. I don't think increasing further the number of epochs would make a significant difference, since it stabilizes around the 30 epoch mark. "
      ]
    }
  ]
}