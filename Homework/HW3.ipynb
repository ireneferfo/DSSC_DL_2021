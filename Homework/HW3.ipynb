{
 "cells": [
  {
   "cell_type": "markdown",
   "metadata": {
    "id": "TfkBDiG5I06E"
   },
   "source": [
    "# Homework 3"
   ]
  },
  {
   "cell_type": "markdown",
   "metadata": {
    "id": "vDE9B-dXI4RP"
   },
   "source": [
    "## 1. Implement L1 norm regularization as a custom loss function\n"
   ]
  },
  {
   "cell_type": "code",
   "execution_count": 4,
   "metadata": {
    "id": "0saju_7aK6BD"
   },
   "outputs": [],
   "source": [
    "import torch\n",
    "\n",
    "def lasso_reg(params, l1_lambda):\n",
    "\n",
    "  l1_penalty = torch.nn.L1Loss(size_average=False)\n",
    "  reg_loss = 0\n",
    "\n",
    "  for param in params:\n",
    "    reg_loss += l1_penalty(param)\n",
    "\n",
    "  loss += l1_lambda * reg_loss\n",
    "  return loss"
   ]
  },
  {
   "cell_type": "markdown",
   "metadata": {
    "id": "DCKf_wIJJe2E"
   },
   "source": [
    "## 2. The third-to-last paragraph in the notebook is concerning early stopping, an \"old\" regularization technique which involves the stopping of training earlier than the number of epochs would suggest. Read the paragraph and download the paper from Prechelt et al. \n",
    "\n",
    "###  a. Implement early stopping in the $E_{opt}$ specification"
   ]
  },
  {
   "cell_type": "markdown",
   "metadata": {
    "id": "H8DZ2sXdlfEr"
   },
   "source": [
    "In the paper, the value $E_{opt}$ is defned to be the lowest validation set error obtained in epochs up to $t$: $$E_{opt}(t) = \\min_{t \\le t'} E_{va}(t')$$ where $E_{va}$ is the validation error, i.e. the corresponding error on the validation set. As per instructions, I'm going to use the test data as validation."
   ]
  },
  {
   "cell_type": "code",
   "execution_count": 102,
   "metadata": {
    "id": "6QOXXrGzwbog"
   },
   "outputs": [],
   "source": [
    "# import in Colab\n",
    "\n",
    "import sys\n",
    "sys.path.append('/content/mnist.py')\n",
    "sys.path.append('/content/train_utils.py')\n",
    "\n",
    "import mnist\n",
    "from train_utils import accuracy, AverageMeter\n",
    "\n",
    "from torch import nn"
   ]
  },
  {
   "cell_type": "code",
   "execution_count": 103,
   "metadata": {
    "id": "yfrh5Swo5F-b"
   },
   "outputs": [],
   "source": [
    "class MLP(nn.Module):\n",
    "    def __init__(self):\n",
    "        super().__init__()\n",
    "        self.flat = nn.Flatten()\n",
    "        self.h1 = nn.Linear(28*28, 16)\n",
    "        self.h2 = nn.Linear(16, 32)\n",
    "        self.h3 = nn.Linear(32, 24)\n",
    "        self.out = nn.Linear(24, 10)\n",
    "    \n",
    "    def forward(self, X, activ_hidden=nn.functional.relu):\n",
    "        out = self.flat(X)\n",
    "        out = activ_hidden(self.h1(out))\n",
    "        out = activ_hidden(self.h2(out))\n",
    "        out = activ_hidden(self.h3(out))\n",
    "        out = self.out(out)\n",
    "        return out"
   ]
  },
  {
   "cell_type": "code",
   "execution_count": 137,
   "metadata": {
    "id": "xqxcyoV7x-C2"
   },
   "outputs": [],
   "source": [
    "def train_epoch(model, dataloader, loss_fn, optimizer, loss_meter, performance_meter, performance): \n",
    "    for X, y in dataloader:\n",
    "        optimizer.zero_grad() \n",
    "        y_hat = model(X)\n",
    "        loss = loss_fn(y_hat, y)\n",
    "        loss.backward()\n",
    "        optimizer.step()\n",
    "        acc = performance(y_hat, y)\n",
    "        loss_meter.update(val=loss.item(), n=X.shape[0])\n",
    "        performance_meter.update(val=acc, n=X.shape[0])\n",
    "\n",
    "\n",
    "def train_model(model, dataloader1, dataloader2, loss_fn, optimizer, num_epochs, performance=accuracy): \n",
    "    model.train()\n",
    "\n",
    "    E = {\n",
    "        \"epoch\": [],\"training perf\": [], \"validation perf\": [], \"parameters\": [], \"optimizer\": []\n",
    "    }\n",
    "\n",
    "    for epoch in range(num_epochs):\n",
    "        loss_meter = AverageMeter()\n",
    "        performance_meter = AverageMeter()\n",
    "\n",
    "        train_epoch(model, dataloader1, loss_fn, optimizer, loss_meter, performance_meter, performance)\n",
    " \n",
    "        fin_loss, fin_perf = test_model(model, dataloader2, loss_fn=loss_fn)\n",
    "\n",
    "        E[\"epoch\"].append(epoch)\n",
    "        E[\"training perf\"].append(performance_meter)\n",
    "        E[\"validation perf\"].append(fin_perf)\n",
    "        E[\"parameters\"].append(model.state_dict())\n",
    "        E[\"optimizer\"].append(optimizer.state_dict())\n",
    "\n",
    "    return loss_meter.sum, performance_meter.avg, E\n",
    "\n",
    "\n",
    "def test_model(model, dataloader, performance=accuracy, loss_fn=None):\n",
    "    # create an AverageMeter for the loss if passed\n",
    "    if loss_fn is not None:\n",
    "        loss_meter = AverageMeter()\n",
    "    \n",
    "    performance_meter = AverageMeter()\n",
    "\n",
    "    model.eval()\n",
    "    with torch.no_grad():\n",
    "        for X, y in dataloader:\n",
    "            y_hat = model(X)\n",
    "            loss = loss_fn(y_hat, y) if loss_fn is not None else None\n",
    "            acc = performance(y_hat, y)\n",
    "            if loss_fn is not None:\n",
    "                loss_meter.update(loss.item(), X.shape[0])\n",
    "            performance_meter.update(acc, X.shape[0])\n",
    "\n",
    "    # get final performances\n",
    "    fin_loss = loss_meter.sum if loss_fn is not None else None\n",
    "    fin_perf = performance_meter.avg\n",
    "    return fin_loss, fin_perf"
   ]
  },
  {
   "cell_type": "code",
   "execution_count": 138,
   "metadata": {
    "id": "-Frzif3gpi99"
   },
   "outputs": [],
   "source": [
    "minibatch_size_train = 256\n",
    "minibatch_size_test = 512\n",
    "\n",
    "trainloader, testloader, trainset, testset = mnist.get_data(batch_size_train=minibatch_size_test, batch_size_test=minibatch_size_test)\n",
    "\n",
    "learn_rate = 0.1\n",
    "num_epochs = 30\n",
    "\n",
    "model = MLP()\n",
    "loss_fn = nn.CrossEntropyLoss()\n",
    "optimizer = torch.optim.SGD(model.parameters(), lr=learn_rate)\n",
    "\n",
    "train_loss, train_acc, E = train_model(model, trainloader, testloader, loss_fn, optimizer, num_epochs)"
   ]
  },
  {
   "cell_type": "markdown",
   "metadata": {
    "id": "QTFNdNU7cWxt"
   },
   "source": [
    "Since `Validation_error = 1 - Validation_performance`, minimizing the error is equivalent to maximizing the performance."
   ]
  },
  {
   "cell_type": "code",
   "execution_count": 148,
   "metadata": {
    "colab": {
     "base_uri": "https://localhost:8080/",
     "height": 282
    },
    "id": "lrAPjNVUS2l0",
    "outputId": "8c132e66-b918-462d-9208-25778004f0e9"
   },
   "outputs": [
    {
     "name": "stdout",
     "output_type": "stream",
     "text": [
      "The best validation performance is 0.9701166666666666, obtained at epoch no. 29 out of 30.\n"
     ]
    },
    {
     "data": {
      "image/png": "[encoded data removed]",
      "text/plain": [
       "<Figure size 432x288 with 1 Axes>"
      ]
     },
     "metadata": {
      "needs_background": "light",
      "tags": []
     },
     "output_type": "display_data"
    }
   ],
   "source": [
    "from matplotlib import pyplot as plt\n",
    "\n",
    "val_list = list(E[\"validation perf\"])\n",
    "maxval = max(E[\"validation perf\"])\n",
    "index = val_list.index(max(val_list)) + 1 \n",
    "\n",
    "plt.plot(E[\"epoch\"], E[\"validation perf\"] )\n",
    "print(f\"The best validation performance is {maxval}, obtained at epoch no. {index} out of {num_epochs}.\")"
   ]
  },
  {
   "cell_type": "markdown",
   "metadata": {
    "id": "GI4WkJBu5FCF"
   },
   "source": [
    "###  b$^*$. Implement early stopping in one of the additional specifications"
   ]
  },
  {
   "cell_type": "markdown",
   "metadata": {
    "id": "hYcLRZIXdj1L"
   },
   "source": [
    "A stopping criterion described in the paper is based on the *generalization loss*: $$ GL (t) = 100 * \\big( \\frac{E_{va}(t)}{E_{opt}(t)} -1 \\big)$$ that is, the validation error over the minimum so far in percent. We should stop as soon as this value exceeds a certain threshold $\\alpha$.\n",
    "\n",
    "As reported in the paper, this criterion is used to maximize the probability to find a good solution, as opposed to maximizing the average quality of the solutions."
   ]
  },
  {
   "cell_type": "code",
   "execution_count": 154,
   "metadata": {
    "colab": {
     "base_uri": "https://localhost:8080/"
    },
    "id": "roVwOewmdXOK",
    "outputId": "7d3ca449-7b6a-4ac7-f306-a476e4753384"
   },
   "outputs": [
    {
     "name": "stdout",
     "output_type": "stream",
     "text": [
      "This stopping criterion halts the computation at epoch 6\n"
     ]
    }
   ],
   "source": [
    "alpha = 1\n",
    "E_opt = 1 - val_list[0]\n",
    "\n",
    "for i in range(num_epochs):\n",
    "  E_va = 1 - val_list[i]\n",
    "\n",
    "  if E_va < E_opt:\n",
    "    E_opt = E_va\n",
    "\n",
    "  GL = 100 * (E_va/E_opt - 1)\n",
    "\n",
    "  if GL > alpha:\n",
    "    print(f\"This stopping criterion halts the computation at epoch {i+1}\")\n",
    "    break"
   ]
  },
  {
   "cell_type": "markdown",
   "metadata": {
    "id": "PiradTVOjRZB"
   },
   "source": [
    "As we can see, this criterion stops very early, at the first epoch with lower performance. A solution is to add momentum to SGD to minimize oscillations:"
   ]
  },
  {
   "cell_type": "code",
   "execution_count": 164,
   "metadata": {
    "id": "iz7zPTpdjwtW"
   },
   "outputs": [],
   "source": [
    "optimizer = torch.optim.SGD(model.parameters(), lr=learn_rate, momentum=0.9)\n",
    "num_epochs = 15\n",
    "\n",
    "train_loss_m, train_acc_m, E_m = train_model(model, trainloader, testloader, loss_fn, optimizer, num_epochs)"
   ]
  },
  {
   "cell_type": "code",
   "execution_count": 165,
   "metadata": {
    "colab": {
     "base_uri": "https://localhost:8080/",
     "height": 282
    },
    "id": "c4OsENV1kUJD",
    "outputId": "4f374d9d-b67e-4881-c174-7a0f69203dbb"
   },
   "outputs": [
    {
     "name": "stdout",
     "output_type": "stream",
     "text": [
      "The best validation performance is 0.9777, obtained at epoch no. 14 out of 15.\n"
     ]
    },
    {
     "data": {
      "image/png": "[encoded data removed]",
      "text/plain": [
       "<Figure size 432x288 with 1 Axes>"
      ]
     },
     "metadata": {
      "needs_background": "light",
      "tags": []
     },
     "output_type": "display_data"
    }
   ],
   "source": [
    "from matplotlib import pyplot as plt\n",
    "\n",
    "val_list = list(E_m[\"validation perf\"])\n",
    "maxval = max(E_m[\"validation perf\"])\n",
    "index = val_list.index(max(val_list)) + 1 \n",
    "\n",
    "plt.plot(E_m[\"epoch\"], E_m[\"validation perf\"] )\n",
    "print(f\"The best validation performance is {maxval}, obtained at epoch no. {index} out of {num_epochs}.\")"
   ]
  },
  {
   "cell_type": "code",
   "execution_count": 170,
   "metadata": {
    "colab": {
     "base_uri": "https://localhost:8080/"
    },
    "id": "K04L5OiIkal0",
    "outputId": "24e6ecc4-e0b1-49a2-d5bc-b98c28742438"
   },
   "outputs": [
    {
     "name": "stdout",
     "output_type": "stream",
     "text": [
      "This stopping criterion halts the computation at epoch 4\n"
     ]
    }
   ],
   "source": [
    "alpha = 2\n",
    "E_opt = 1 - val_list[0]\n",
    "\n",
    "for i in range(num_epochs):\n",
    "  E_va = 1 - val_list[i]\n",
    "\n",
    "  if E_va < E_opt:\n",
    "    E_opt = E_va\n",
    "\n",
    "  GL = 100 * (E_va/E_opt - 1)\n",
    "  \n",
    "  if GL > alpha:\n",
    "    print(f\"This stopping criterion halts the computation at epoch {i+1}\")\n",
    "    break"
   ]
  },
  {
   "cell_type": "markdown",
   "metadata": {
    "id": "feZkng0LpuK1"
   },
   "source": [
    "From the plot we can see that SGD with momentum performs a lot better than without, reducing oscillations. Nevertheless, this criterion stops very early anyways. "
   ]
  }
 ],
 "metadata": {
  "colab": {
   "collapsed_sections": [],
   "name": "DL-HW3.ipynb",
   "provenance": []
  },
  "kernelspec": {
   "display_name": "Python 3.8.2 64-bit ('pytorch': conda)",
   "language": "python",
   "name": "python38264bitpytorchcondacea95a9aa1ff4dccbaf1b76d59752e67"
  },
  "language_info": {
   "codemirror_mode": {
    "name": "ipython",
    "version": 3
   },
   "file_extension": ".py",
   "mimetype": "text/x-python",
   "name": "python",
   "nbconvert_exporter": "python",
   "pygments_lexer": "ipython3",
   "version": "3.9.2"
  }
 },
 "nbformat": 4,
 "nbformat_minor": 1
}